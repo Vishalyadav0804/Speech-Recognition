{
 "cells": [
  {
   "cell_type": "markdown",
   "metadata": {},
   "source": [
    "# Python librarires for speech recognition are:\n",
    "    apiai\n",
    "    assemblyai\n",
    "    Google-cloud-speech\n",
    "    SpeechRecognition\n",
    "    Pocketsphinx\n",
    "    Watson-developer-cloud\n",
    "    wit"
   ]
  },
  {
   "cell_type": "markdown",
   "metadata": {},
   "source": [
    "\n",
    "SpeechRecognition library contains a Recognizer class which has 7 methods to recognise speech from any audio source, they are:\n",
    "    recognize_bing(),\n",
    "    recognize_google(),\n",
    "    recognize_google_cloud(),\n",
    "    recognize_houndify(),\n",
    "    recognize_ibm(),\n",
    "    recognize_sphinx(),\n",
    "    recognize_wit()"
   ]
  },
  {
   "cell_type": "markdown",
   "metadata": {},
   "source": [
    "# Working with microphones\n",
    "To work with microphone we will have to install PyAudio package in python.\n",
    "To record audio using the microphone we will have a microphone class.\n",
    "We can use default microphone else use listmicrophone method to use other microphone.\n",
    "Listen method is used for listening through microphone."
   ]
  },
  {
   "cell_type": "markdown",
   "metadata": {},
   "source": [
    "# Use Case\n",
    "We will make a program using the speech recognition python to execute the following:\n",
    "1. Converting speech to text using sppech recognition\n",
    "2. Using the text to open a URL using web browser\n",
    "3. Searching a query using speech inside the URL"
   ]
  },
  {
   "cell_type": "code",
   "execution_count": 1,
   "metadata": {},
   "outputs": [],
   "source": [
    "import speech_recognition as sr\n",
    "import webbrowser as wb"
   ]
  },
  {
   "cell_type": "code",
   "execution_count": 4,
   "metadata": {},
   "outputs": [
    {
     "name": "stdout",
     "output_type": "stream",
     "text": [
      "[search youtube: search google]\n",
      "speak now\n",
      "search your query\n",
      "Pagal Hai song\n"
     ]
    }
   ],
   "source": [
    "r1=sr.Recognizer()\n",
    "r2=sr.Recognizer()\n",
    "r3=sr.Recognizer()\n",
    "r4=sr.Recognizer()\n",
    "\n",
    "with sr.Microphone() as source:\n",
    "    print('[search youtube: search google]')\n",
    "    print('speak now')\n",
    "    audio=r3.listen(source)\n",
    "    \n",
    "if 'search' in r2.recognize_google(audio):\n",
    "    r2=sr.Recognizer()\n",
    "    url='http://www.google.com/search?q='\n",
    "    with sr.Microphone() as source:\n",
    "        print('search your query')\n",
    "        audio=r2.listen(source)\n",
    "        \n",
    "        try:\n",
    "            get=r2.recognize_google(audio)\n",
    "            print(get)\n",
    "            wb.get().open_new(url+get)\n",
    "        except sr.UnknownValueError:\n",
    "            print('error')\n",
    "        except sr.RequestError as e:\n",
    "            print('failed'.format(e))\n",
    "            \n",
    "if 'video' in r1.recognize_google(audio):\n",
    "    r1=sr.Recognizer()\n",
    "    url='https://www.youtube.com/results?search_query='\n",
    "    with sr.Microphone() as source:\n",
    "        print('search your query')\n",
    "        audio=r1.listen(source)\n",
    "        \n",
    "        try:\n",
    "            get=r1.recognize_google(audio)\n",
    "            print(get)\n",
    "            wb.get().open_new(url+get)\n",
    "        except sr.UnknownValueError:\n",
    "            print('error')\n",
    "        except sr.RequestError as e:\n",
    "            print('failed'.format(e))\n",
    "            \n"
   ]
  },
  {
   "cell_type": "code",
   "execution_count": null,
   "metadata": {},
   "outputs": [],
   "source": []
  }
 ],
 "metadata": {
  "kernelspec": {
   "display_name": "Python 3",
   "language": "python",
   "name": "python3"
  },
  "language_info": {
   "codemirror_mode": {
    "name": "ipython",
    "version": 3
   },
   "file_extension": ".py",
   "mimetype": "text/x-python",
   "name": "python",
   "nbconvert_exporter": "python",
   "pygments_lexer": "ipython3",
   "version": "3.7.4"
  }
 },
 "nbformat": 4,
 "nbformat_minor": 2
}
